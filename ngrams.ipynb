{
  "nbformat": 4,
  "nbformat_minor": 0,
  "metadata": {
    "colab": {
      "provenance": [],
      "authorship_tag": "ABX9TyOsYSeG1ykx969vEi1vL74b",
      "include_colab_link": true
    },
    "kernelspec": {
      "name": "python3",
      "display_name": "Python 3"
    },
    "language_info": {
      "name": "python"
    }
  },
  "cells": [
    {
      "cell_type": "markdown",
      "metadata": {
        "id": "view-in-github",
        "colab_type": "text"
      },
      "source": [
        "<a href=\"https://colab.research.google.com/github/hrishabh-dev/nlpbasics/blob/main/ngrams.ipynb\" target=\"_parent\"><img src=\"https://colab.research.google.com/assets/colab-badge.svg\" alt=\"Open In Colab\"/></a>"
      ]
    },
    {
      "cell_type": "code",
      "source": [
        "import nltk\n",
        "nltk.download('punkt_tab')"
      ],
      "metadata": {
        "colab": {
          "base_uri": "https://localhost:8080/"
        },
        "id": "QD-o5r659S3Q",
        "outputId": "7d4363aa-5ed9-4676-c786-7eb7897cbc99"
      },
      "execution_count": 5,
      "outputs": [
        {
          "output_type": "stream",
          "name": "stderr",
          "text": [
            "[nltk_data] Downloading package punkt_tab to /root/nltk_data...\n",
            "[nltk_data]   Unzipping tokenizers/punkt_tab.zip.\n"
          ]
        },
        {
          "output_type": "execute_result",
          "data": {
            "text/plain": [
              "True"
            ]
          },
          "metadata": {},
          "execution_count": 5
        }
      ]
    },
    {
      "cell_type": "code",
      "execution_count": null,
      "metadata": {
        "id": "XMUFnRC97YJe"
      },
      "outputs": [],
      "source": [
        "'''\n",
        "\n",
        "An n-gram is a contiguous sequence of nnn items (usually words or characters) from a given sequence of text or speech. The value of nnn defines the size of the sequence:\n",
        "\n",
        "Types of N-grams:\n",
        "Unigram (1-gram): Consists of single words (e.g., \"I\", \"am\", \"happy\").\n",
        "Bigram (2-gram): Consists of pairs of adjacent words (e.g., \"I am\", \"am happy\").\n",
        "Trigram (3-gram): Consists of triplets of adjacent words (e.g., \"I am happy\").\n",
        "Higher-order n-grams: This continues with quadrigrams (4-grams), pentagrams (5-grams), etc\n",
        "\n",
        "'''\n"
      ]
    },
    {
      "cell_type": "code",
      "source": [
        "# Example"
      ],
      "metadata": {
        "id": "-BC0VP9W87Vj"
      },
      "execution_count": 1,
      "outputs": []
    },
    {
      "cell_type": "code",
      "source": [
        "from nltk.tokenize import word_tokenize\n",
        "from nltk.collocations import ngrams"
      ],
      "metadata": {
        "id": "hPfg0nuT8_09"
      },
      "execution_count": 2,
      "outputs": []
    },
    {
      "cell_type": "code",
      "source": [
        "x='I am Hrishabh I study data science'"
      ],
      "metadata": {
        "id": "QGSiESqQ9HR_"
      },
      "execution_count": 3,
      "outputs": []
    },
    {
      "cell_type": "code",
      "source": [
        "n=ngrams(word_tokenize(x),2)"
      ],
      "metadata": {
        "id": "H1gT8c0x9Nhx"
      },
      "execution_count": 6,
      "outputs": []
    },
    {
      "cell_type": "code",
      "source": [
        "for i in  n:\n",
        "  print(i)"
      ],
      "metadata": {
        "colab": {
          "base_uri": "https://localhost:8080/"
        },
        "id": "HzNW6WCC9Qvp",
        "outputId": "ef8a44e5-3705-46b3-c35e-57f874b2ec32"
      },
      "execution_count": 9,
      "outputs": [
        {
          "output_type": "stream",
          "name": "stdout",
          "text": [
            "('I', 'am')\n",
            "('am', 'Hrishabh')\n",
            "('Hrishabh', 'I')\n",
            "('I', 'study')\n",
            "('study', 'data')\n",
            "('data', 'science')\n"
          ]
        }
      ]
    },
    {
      "cell_type": "code",
      "source": [],
      "metadata": {
        "id": "8BlApGOE9Whg"
      },
      "execution_count": null,
      "outputs": []
    }
  ]
}
{
  "nbformat": 4,
  "nbformat_minor": 0,
  "metadata": {
    "colab": {
      "provenance": [],
      "gpuType": "T4",
      "authorship_tag": "ABX9TyMr/981XlSG+K23m2ilZi6H"
    },
    "kernelspec": {
      "name": "python3",
      "display_name": "Python 3"
    },
    "language_info": {
      "name": "python"
    },
    "accelerator": "GPU"
  },
  "cells": [
    {
      "cell_type": "code",
      "source": [
        "import nltk\n",
        "nltk.download('punkt_tab')\n",
        "nltk.download('stopwords')"
      ],
      "metadata": {
        "colab": {
          "base_uri": "https://localhost:8080/"
        },
        "id": "XFkvE5vtSynV",
        "outputId": "6869a687-2e44-4196-ab77-f24107e8fbe7"
      },
      "execution_count": 11,
      "outputs": [
        {
          "output_type": "stream",
          "name": "stderr",
          "text": [
            "[nltk_data] Downloading package punkt_tab to /root/nltk_data...\n",
            "[nltk_data]   Package punkt_tab is already up-to-date!\n",
            "[nltk_data] Downloading package stopwords to /root/nltk_data...\n",
            "[nltk_data]   Unzipping corpora/stopwords.zip.\n"
          ]
        },
        {
          "output_type": "execute_result",
          "data": {
            "text/plain": [
              "True"
            ]
          },
          "metadata": {},
          "execution_count": 11
        }
      ]
    },
    {
      "cell_type": "code",
      "execution_count": 1,
      "metadata": {
        "id": "H97RqOsbRfe8"
      },
      "outputs": [],
      "source": [
        "from nltk.corpus import stopwords"
      ]
    },
    {
      "cell_type": "code",
      "source": [
        "v='The environment encompasses all living and non-living things that surround us, playing a crucial role in supporting life on Earth. It includes the air, water, land, and all the natural resources and organisms that inhabit our planet. The environment is vital for human survival, providing us with essential resources like air, water, food, and shelter'"
      ],
      "metadata": {
        "id": "Gjf6fLXpR4F_"
      },
      "execution_count": 2,
      "outputs": []
    },
    {
      "cell_type": "code",
      "source": [
        "v"
      ],
      "metadata": {
        "colab": {
          "base_uri": "https://localhost:8080/",
          "height": 53
        },
        "id": "zHq05D6JSMcP",
        "outputId": "092d51d1-5833-4592-a6d1-26731af87e60"
      },
      "execution_count": 3,
      "outputs": [
        {
          "output_type": "execute_result",
          "data": {
            "text/plain": [
              "'The environment encompasses all living and non-living things that surround us, playing a crucial role in supporting life on Earth. It includes the air, water, land, and all the natural resources and organisms that inhabit our planet. The environment is vital for human survival, providing us with essential resources like air, water, food, and shelter'"
            ],
            "application/vnd.google.colaboratory.intrinsic+json": {
              "type": "string"
            }
          },
          "metadata": {},
          "execution_count": 3
        }
      ]
    },
    {
      "cell_type": "code",
      "source": [
        "from nltk.tokenize import word_tokenize\n",
        "w=word_tokenize(v)"
      ],
      "metadata": {
        "id": "gmhqo22DSNrU"
      },
      "execution_count": 6,
      "outputs": []
    },
    {
      "cell_type": "code",
      "source": [
        "w"
      ],
      "metadata": {
        "colab": {
          "base_uri": "https://localhost:8080/"
        },
        "id": "nx4WAE_iSwLf",
        "outputId": "a147baeb-006a-4a05-ebca-ab8c939d3f97"
      },
      "execution_count": 7,
      "outputs": [
        {
          "output_type": "execute_result",
          "data": {
            "text/plain": [
              "['The',\n",
              " 'environment',\n",
              " 'encompasses',\n",
              " 'all',\n",
              " 'living',\n",
              " 'and',\n",
              " 'non-living',\n",
              " 'things',\n",
              " 'that',\n",
              " 'surround',\n",
              " 'us',\n",
              " ',',\n",
              " 'playing',\n",
              " 'a',\n",
              " 'crucial',\n",
              " 'role',\n",
              " 'in',\n",
              " 'supporting',\n",
              " 'life',\n",
              " 'on',\n",
              " 'Earth',\n",
              " '.',\n",
              " 'It',\n",
              " 'includes',\n",
              " 'the',\n",
              " 'air',\n",
              " ',',\n",
              " 'water',\n",
              " ',',\n",
              " 'land',\n",
              " ',',\n",
              " 'and',\n",
              " 'all',\n",
              " 'the',\n",
              " 'natural',\n",
              " 'resources',\n",
              " 'and',\n",
              " 'organisms',\n",
              " 'that',\n",
              " 'inhabit',\n",
              " 'our',\n",
              " 'planet',\n",
              " '.',\n",
              " 'The',\n",
              " 'environment',\n",
              " 'is',\n",
              " 'vital',\n",
              " 'for',\n",
              " 'human',\n",
              " 'survival',\n",
              " ',',\n",
              " 'providing',\n",
              " 'us',\n",
              " 'with',\n",
              " 'essential',\n",
              " 'resources',\n",
              " 'like',\n",
              " 'air',\n",
              " ',',\n",
              " 'water',\n",
              " ',',\n",
              " 'food',\n",
              " ',',\n",
              " 'and',\n",
              " 'shelter']"
            ]
          },
          "metadata": {},
          "execution_count": 7
        }
      ]
    },
    {
      "cell_type": "code",
      "source": [
        "from string import  punctuation"
      ],
      "metadata": {
        "id": "s1AoRFaBS5oz"
      },
      "execution_count": 8,
      "outputs": []
    },
    {
      "cell_type": "markdown",
      "source": [
        "## removing stopwords and punctuation"
      ],
      "metadata": {
        "id": "pQ1S_7F2T8LP"
      }
    },
    {
      "cell_type": "code",
      "source": [
        "s=stopwords.words('english')\n",
        "l=list(punctuation)+s\n"
      ],
      "metadata": {
        "id": "Id5QWMxWTUTI"
      },
      "execution_count": 13,
      "outputs": []
    },
    {
      "cell_type": "code",
      "source": [
        "for i in w:\n",
        "  if i not in l:\n",
        "    print(i)"
      ],
      "metadata": {
        "colab": {
          "base_uri": "https://localhost:8080/"
        },
        "id": "Jo2nmvSjTaE9",
        "outputId": "6654cff3-0878-41e5-f2cc-4330c1483a55"
      },
      "execution_count": 16,
      "outputs": [
        {
          "output_type": "stream",
          "name": "stdout",
          "text": [
            "The\n",
            "environment\n",
            "encompasses\n",
            "living\n",
            "non-living\n",
            "things\n",
            "surround\n",
            "us\n",
            "playing\n",
            "crucial\n",
            "role\n",
            "supporting\n",
            "life\n",
            "Earth\n",
            "It\n",
            "includes\n",
            "air\n",
            "water\n",
            "land\n",
            "natural\n",
            "resources\n",
            "organisms\n",
            "inhabit\n",
            "planet\n",
            "The\n",
            "environment\n",
            "vital\n",
            "human\n",
            "survival\n",
            "providing\n",
            "us\n",
            "essential\n",
            "resources\n",
            "like\n",
            "air\n",
            "water\n",
            "food\n",
            "shelter\n"
          ]
        }
      ]
    },
    {
      "cell_type": "code",
      "source": [],
      "metadata": {
        "id": "3Wm_qrscTn_6"
      },
      "execution_count": null,
      "outputs": []
    }
  ]
}
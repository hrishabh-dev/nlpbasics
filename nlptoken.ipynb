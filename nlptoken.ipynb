{
  "nbformat": 4,
  "nbformat_minor": 0,
  "metadata": {
    "colab": {
      "provenance": [],
      "gpuType": "T4",
      "authorship_tag": "ABX9TyMma8Wxxba1/Epbx3feOTHs"
    },
    "kernelspec": {
      "name": "python3",
      "display_name": "Python 3"
    },
    "language_info": {
      "name": "python"
    },
    "accelerator": "GPU"
  },
  "cells": [
    {
      "cell_type": "code",
      "source": [
        "pip install nltk"
      ],
      "metadata": {
        "colab": {
          "base_uri": "https://localhost:8080/"
        },
        "id": "uh-pNFUEKLjg",
        "outputId": "4c000214-2bbc-45b1-c17b-d0b86c488842"
      },
      "execution_count": null,
      "outputs": [
        {
          "output_type": "stream",
          "name": "stdout",
          "text": [
            "Requirement already satisfied: nltk in /usr/local/lib/python3.11/dist-packages (3.9.1)\n",
            "Requirement already satisfied: click in /usr/local/lib/python3.11/dist-packages (from nltk) (8.1.8)\n",
            "Requirement already satisfied: joblib in /usr/local/lib/python3.11/dist-packages (from nltk) (1.4.2)\n",
            "Requirement already satisfied: regex>=2021.8.3 in /usr/local/lib/python3.11/dist-packages (from nltk) (2024.11.6)\n",
            "Requirement already satisfied: tqdm in /usr/local/lib/python3.11/dist-packages (from nltk) (4.67.1)\n"
          ]
        }
      ]
    },
    {
      "cell_type": "code",
      "source": [
        "import nltk\n",
        "nltk.download('punkt_tab')"
      ],
      "metadata": {
        "colab": {
          "base_uri": "https://localhost:8080/"
        },
        "id": "ygiDeEZtGsnZ",
        "outputId": "3d035b47-d5fe-4092-8e43-6877b9bcab4f"
      },
      "execution_count": null,
      "outputs": [
        {
          "output_type": "stream",
          "name": "stderr",
          "text": [
            "[nltk_data] Downloading package punkt_tab to /root/nltk_data...\n",
            "[nltk_data]   Unzipping tokenizers/punkt_tab.zip.\n"
          ]
        },
        {
          "output_type": "execute_result",
          "data": {
            "text/plain": [
              "True"
            ]
          },
          "metadata": {},
          "execution_count": 5
        }
      ]
    },
    {
      "cell_type": "code",
      "source": [
        "nltk.download('averaged_perceptron_tagger_eng')"
      ],
      "metadata": {
        "colab": {
          "base_uri": "https://localhost:8080/"
        },
        "id": "WwiIp8IUG_yU",
        "outputId": "4bab24f1-07ed-454c-9c6a-9397f3689f8b"
      },
      "execution_count": null,
      "outputs": [
        {
          "output_type": "stream",
          "name": "stderr",
          "text": [
            "[nltk_data] Downloading package averaged_perceptron_tagger_eng to\n",
            "[nltk_data]     /root/nltk_data...\n",
            "[nltk_data]   Unzipping taggers/averaged_perceptron_tagger_eng.zip.\n"
          ]
        },
        {
          "output_type": "execute_result",
          "data": {
            "text/plain": [
              "True"
            ]
          },
          "metadata": {},
          "execution_count": 11
        }
      ]
    },
    {
      "cell_type": "markdown",
      "source": [
        "## Paragraph"
      ],
      "metadata": {
        "id": "86lj-KW7QnUL"
      }
    },
    {
      "cell_type": "code",
      "execution_count": null,
      "metadata": {
        "id": "M9elEGBLGLEi"
      },
      "outputs": [],
      "source": [
        "x=\"The environment encompasses all living and non-living things that surround us, playing a crucial role in supporting life on Earth. It includes the air, water, land, and all the natural resources and organisms that inhabit our planet. The environment is vital for human survival, providing us with essential resources like air, water, food, and shelter.\""
      ]
    },
    {
      "cell_type": "markdown",
      "source": [
        "##  importng Word tokenizer and Sentence tokenizer"
      ],
      "metadata": {
        "id": "XDnYoAOgQuEG"
      }
    },
    {
      "cell_type": "code",
      "source": [
        "from nltk.tokenize import word_tokenize,sent_tokenize"
      ],
      "metadata": {
        "id": "qocqVwePGYuo"
      },
      "execution_count": null,
      "outputs": []
    },
    {
      "cell_type": "code",
      "source": [
        "w=word_tokenize(x)\n",
        "w"
      ],
      "metadata": {
        "colab": {
          "base_uri": "https://localhost:8080/"
        },
        "id": "GHAZGdtpGf2f",
        "outputId": "5a577cb4-2359-4095-cb86-24838c9b44ee"
      },
      "execution_count": null,
      "outputs": [
        {
          "output_type": "execute_result",
          "data": {
            "text/plain": [
              "['The',\n",
              " 'environment',\n",
              " 'encompasses',\n",
              " 'all',\n",
              " 'living',\n",
              " 'and',\n",
              " 'non-living',\n",
              " 'things',\n",
              " 'that',\n",
              " 'surround',\n",
              " 'us',\n",
              " ',',\n",
              " 'playing',\n",
              " 'a',\n",
              " 'crucial',\n",
              " 'role',\n",
              " 'in',\n",
              " 'supporting',\n",
              " 'life',\n",
              " 'on',\n",
              " 'Earth',\n",
              " '.',\n",
              " 'It',\n",
              " 'includes',\n",
              " 'the',\n",
              " 'air',\n",
              " ',',\n",
              " 'water',\n",
              " ',',\n",
              " 'land',\n",
              " ',',\n",
              " 'and',\n",
              " 'all',\n",
              " 'the',\n",
              " 'natural',\n",
              " 'resources',\n",
              " 'and',\n",
              " 'organisms',\n",
              " 'that',\n",
              " 'inhabit',\n",
              " 'our',\n",
              " 'planet',\n",
              " '.',\n",
              " 'The',\n",
              " 'environment',\n",
              " 'is',\n",
              " 'vital',\n",
              " 'for',\n",
              " 'human',\n",
              " 'survival',\n",
              " ',',\n",
              " 'providing',\n",
              " 'us',\n",
              " 'with',\n",
              " 'essential',\n",
              " 'resources',\n",
              " 'like',\n",
              " 'air',\n",
              " ',',\n",
              " 'water',\n",
              " ',',\n",
              " 'food',\n",
              " ',',\n",
              " 'and',\n",
              " 'shelter',\n",
              " '.']"
            ]
          },
          "metadata": {},
          "execution_count": 21
        }
      ]
    },
    {
      "cell_type": "code",
      "source": [
        "for i in s:\n",
        "  print(i)\n",
        "  print()"
      ],
      "metadata": {
        "colab": {
          "base_uri": "https://localhost:8080/"
        },
        "id": "pnJYi8uCLBIa",
        "outputId": "1c7a47e6-ebd2-45a6-820f-efcb0892d6ba"
      },
      "execution_count": null,
      "outputs": [
        {
          "output_type": "stream",
          "name": "stdout",
          "text": [
            "The environment encompasses all living and non-living things that surround us, playing a crucial role in supporting life on Earth.\n",
            "\n",
            "It includes the air, water, land, and all the natural resources and organisms that inhabit our planet.\n",
            "\n",
            "The environment is vital for human survival, providing us with essential resources like air, water, food, and shelter.\n",
            "\n"
          ]
        }
      ]
    },
    {
      "cell_type": "markdown",
      "source": [
        "## Checking parts of speech"
      ],
      "metadata": {
        "id": "g5e-fteYQ1XG"
      }
    },
    {
      "cell_type": "code",
      "source": [
        "from nltk import pos_tag"
      ],
      "metadata": {
        "id": "5L9lco00Gjbg"
      },
      "execution_count": null,
      "outputs": []
    },
    {
      "cell_type": "code",
      "source": [
        "p=pos_tag(w)\n",
        "for i in   p:\n",
        "  print(i,end=' ')\n",
        "  print()"
      ],
      "metadata": {
        "colab": {
          "base_uri": "https://localhost:8080/"
        },
        "id": "yVSylF0WG4Jk",
        "outputId": "3a5ec00e-c566-4c5f-8ee1-609aa6735ef5"
      },
      "execution_count": null,
      "outputs": [
        {
          "output_type": "stream",
          "name": "stdout",
          "text": [
            "('The', 'DT') \n",
            "('environment', 'NN') \n",
            "('encompasses', 'VBZ') \n",
            "('all', 'DT') \n",
            "('living', 'NN') \n",
            "('and', 'CC') \n",
            "('non-living', 'JJ') \n",
            "('things', 'NNS') \n",
            "('that', 'WDT') \n",
            "('surround', 'VBP') \n",
            "('us', 'PRP') \n",
            "(',', ',') \n",
            "('playing', 'VBG') \n",
            "('a', 'DT') \n",
            "('crucial', 'JJ') \n",
            "('role', 'NN') \n",
            "('in', 'IN') \n",
            "('supporting', 'VBG') \n",
            "('life', 'NN') \n",
            "('on', 'IN') \n",
            "('Earth', 'NNP') \n",
            "('.', '.') \n",
            "('It', 'PRP') \n",
            "('includes', 'VBZ') \n",
            "('the', 'DT') \n",
            "('air', 'NN') \n",
            "(',', ',') \n",
            "('water', 'NN') \n",
            "(',', ',') \n",
            "('land', 'NN') \n",
            "(',', ',') \n",
            "('and', 'CC') \n",
            "('all', 'PDT') \n",
            "('the', 'DT') \n",
            "('natural', 'JJ') \n",
            "('resources', 'NNS') \n",
            "('and', 'CC') \n",
            "('organisms', 'NNS') \n",
            "('that', 'WDT') \n",
            "('inhabit', 'VBP') \n",
            "('our', 'PRP$') \n",
            "('planet', 'NN') \n",
            "('.', '.') \n",
            "('The', 'DT') \n",
            "('environment', 'NN') \n",
            "('is', 'VBZ') \n",
            "('vital', 'JJ') \n",
            "('for', 'IN') \n",
            "('human', 'JJ') \n",
            "('survival', 'NN') \n",
            "(',', ',') \n",
            "('providing', 'VBG') \n",
            "('us', 'PRP') \n",
            "('with', 'IN') \n",
            "('essential', 'JJ') \n",
            "('resources', 'NNS') \n",
            "('like', 'IN') \n",
            "('air', 'NN') \n",
            "(',', ',') \n",
            "('water', 'NN') \n",
            "(',', ',') \n",
            "('food', 'NN') \n",
            "(',', ',') \n",
            "('and', 'CC') \n",
            "('shelter', 'NN') \n",
            "('.', '.') \n"
          ]
        }
      ]
    },
    {
      "cell_type": "code",
      "source": [],
      "metadata": {
        "id": "0sv17MubG8hp"
      },
      "execution_count": null,
      "outputs": []
    }
  ]
}